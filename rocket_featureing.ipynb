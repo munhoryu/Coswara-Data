{
 "cells": [
  {
   "cell_type": "code",
   "execution_count": 2,
   "metadata": {},
   "outputs": [
    {
     "name": "stdout",
     "output_type": "stream",
     "text": [
      "Requirement already satisfied: sktime==0.7.0 in c:\\users\\munhoryu\\.conda\\envs\\sktime\\lib\\site-packages (0.7.0)\n",
      "Requirement already satisfied: numba>=0.50 in c:\\users\\munhoryu\\.conda\\envs\\sktime\\lib\\site-packages (from sktime==0.7.0) (0.53.0)\n",
      "Requirement already satisfied: scikit-learn>=0.24.0 in c:\\users\\munhoryu\\.conda\\envs\\sktime\\lib\\site-packages (from sktime==0.7.0) (1.0.2)\n",
      "Requirement already satisfied: pandas>=1.1.0 in c:\\users\\munhoryu\\.conda\\envs\\sktime\\lib\\site-packages (from sktime==0.7.0) (1.3.5)\n",
      "Requirement already satisfied: wheel in c:\\users\\munhoryu\\.conda\\envs\\sktime\\lib\\site-packages (from sktime==0.7.0) (0.37.1)\n",
      "Requirement already satisfied: statsmodels>=0.12.1 in c:\\users\\munhoryu\\.conda\\envs\\sktime\\lib\\site-packages (from sktime==0.7.0) (0.13.2)\n",
      "Requirement already satisfied: numpy>=1.19.0 in c:\\users\\munhoryu\\.conda\\envs\\sktime\\lib\\site-packages (from sktime==0.7.0) (1.21.5)\n",
      "Requirement already satisfied: llvmlite<0.37,>=0.36.0rc1 in c:\\users\\munhoryu\\.conda\\envs\\sktime\\lib\\site-packages (from numba>=0.50->sktime==0.7.0) (0.36.0)\n",
      "Requirement already satisfied: setuptools in c:\\users\\munhoryu\\.conda\\envs\\sktime\\lib\\site-packages (from numba>=0.50->sktime==0.7.0) (58.0.4)\n",
      "Requirement already satisfied: python-dateutil>=2.7.3 in c:\\users\\munhoryu\\.conda\\envs\\sktime\\lib\\site-packages (from pandas>=1.1.0->sktime==0.7.0) (2.8.2)\n",
      "Requirement already satisfied: pytz>=2017.3 in c:\\users\\munhoryu\\.conda\\envs\\sktime\\lib\\site-packages (from pandas>=1.1.0->sktime==0.7.0) (2021.3)\n",
      "Requirement already satisfied: six>=1.5 in c:\\users\\munhoryu\\.conda\\envs\\sktime\\lib\\site-packages (from python-dateutil>=2.7.3->pandas>=1.1.0->sktime==0.7.0) (1.16.0)\n",
      "Requirement already satisfied: scipy>=1.1.0 in c:\\users\\munhoryu\\.conda\\envs\\sktime\\lib\\site-packages (from scikit-learn>=0.24.0->sktime==0.7.0) (1.7.3)\n",
      "Requirement already satisfied: threadpoolctl>=2.0.0 in c:\\users\\munhoryu\\.conda\\envs\\sktime\\lib\\site-packages (from scikit-learn>=0.24.0->sktime==0.7.0) (3.1.0)\n",
      "Requirement already satisfied: joblib>=0.11 in c:\\users\\munhoryu\\.conda\\envs\\sktime\\lib\\site-packages (from scikit-learn>=0.24.0->sktime==0.7.0) (1.1.0)\n",
      "Requirement already satisfied: patsy>=0.5.2 in c:\\users\\munhoryu\\.conda\\envs\\sktime\\lib\\site-packages (from statsmodels>=0.12.1->sktime==0.7.0) (0.5.2)\n",
      "Requirement already satisfied: packaging>=21.3 in c:\\users\\munhoryu\\.conda\\envs\\sktime\\lib\\site-packages (from statsmodels>=0.12.1->sktime==0.7.0) (21.3)\n",
      "Requirement already satisfied: pyparsing!=3.0.5,>=2.0.2 in c:\\users\\munhoryu\\.conda\\envs\\sktime\\lib\\site-packages (from packaging>=21.3->statsmodels>=0.12.1->sktime==0.7.0) (3.0.7)\n"
     ]
    }
   ],
   "source": [
    "!pip install sktime==0.7.0"
   ]
  },
  {
   "cell_type": "code",
   "execution_count": 4,
   "metadata": {},
   "outputs": [],
   "source": [
    "from sktime.transformations.panel.reduce import Tabularizer\n",
    "from sklearn.pipeline import make_pipeline\n",
    "from sklearn.pipeline import Pipeline\n",
    "from sklearn.dummy import DummyClassifier\n",
    "from sklearn.ensemble import RandomForestClassifier\n",
    "from numpy.random import default_rng\n",
    "from sktime.datasets import load_arrow_head\n",
    "from sktime.utils.data_io import load_from_tsfile_to_dataframe\n",
    "from sklearn.model_selection import train_test_split\n",
    "from sklearn.metrics import accuracy_score\n",
    "import pandas as pd\n",
    "import numpy as np\n",
    "import matplotlib.pyplot as plt\n",
    "from sktime.utils.slope_and_trend import _slope\n",
    "from sklearn.tree import DecisionTreeClassifier\n",
    "from sktime.classification.compose import ComposableTimeSeriesForestClassifier\n",
    "import time\n",
    "import datetime\n",
    "from sklearn.metrics import confusion_matrix\n",
    "from sktime.utils.data_processing import from_nested_to_2d_array # sktime -0.7.0\n",
    "# from sktime.datatypes._panel._convert import from_nested_to_2d_array "
   ]
  },
  {
   "cell_type": "code",
   "execution_count": 5,
   "metadata": {},
   "outputs": [],
   "source": [
    "ts_file_name = 'coswara-4k.ts'\n",
    "\n",
    "def load_ts_file(ts_file_name):\n",
    "    result = load_from_tsfile_to_dataframe(ts_file_name)\n",
    "    X = pd.DataFrame(dtype=\"object\")\n",
    "    y = pd.Series(dtype=\"object\")\n",
    "    X = pd.concat([X, pd.DataFrame(result[0])])\n",
    "    y = pd.concat([y, pd.Series(result[1])])\n",
    "    return X, y\n",
    "\n",
    "# 18s --> 9s\n",
    "# virufy data 2m 18s, 1m 52s\n",
    "# virufy data 17s (4000 Hz)\n",
    "# coswara 2m 41s\n",
    "X, y = load_ts_file(ts_file_name)"
   ]
  },
  {
   "cell_type": "code",
   "execution_count": 6,
   "metadata": {},
   "outputs": [
    {
     "name": "stdout",
     "output_type": "stream",
     "text": [
      "<class 'pandas.core.frame.DataFrame'>\n",
      "<class 'pandas.core.frame.DataFrame'>\n",
      "RangeIndex: 4800 entries, 0 to 4799\n",
      "Data columns (total 1 columns):\n",
      " #   Column  Non-Null Count  Dtype \n",
      "---  ------  --------------  ----- \n",
      " 0   dim_0   4800 non-null   object\n",
      "dtypes: object(1)\n",
      "memory usage: 37.6+ KB\n",
      "None\n",
      "(4800, 1)\n",
      "<class 'pandas.core.series.Series'>\n",
      "(4800,)\n",
      "0       breathing\n",
      "1           cough\n",
      "2        counting\n",
      "3           vowel\n",
      "4       breathing\n",
      "          ...    \n",
      "4795        vowel\n",
      "4796    breathing\n",
      "4797        cough\n",
      "4798     counting\n",
      "4799        vowel\n",
      "Length: 4800, dtype: object\n"
     ]
    }
   ],
   "source": [
    "print(type(X))\n",
    "print(X.info())\n",
    "print(X.shape)\n",
    "print(type(y))\n",
    "print(y.shape)\n",
    "print(y)"
   ]
  },
  {
   "cell_type": "code",
   "execution_count": 7,
   "metadata": {},
   "outputs": [],
   "source": [
    "# 1m 7s\n",
    "import numpy as np\n",
    "from sklearn.linear_model import RidgeClassifierCV\n",
    "from sklearn.pipeline import make_pipeline\n",
    "# from sktime.datasets import load_arrow_head  # univariate dataset\n",
    "# from sktime.datasets import load_basic_motions  # multivariate dataset\n",
    "from sktime.transformations.panel.rocket import Rocket"
   ]
  },
  {
   "cell_type": "code",
   "execution_count": 8,
   "metadata": {},
   "outputs": [
    {
     "name": "stdout",
     "output_type": "stream",
     "text": [
      "time=1.45053 s\n",
      "time=0:00:01.450530\n"
     ]
    }
   ],
   "source": [
    "# initialize rocket and transform the training data\n",
    "# rocket = Rocket()  # by default, ROCKET uses 10,000 kernels\n",
    "rocket = Rocket(normalise=True, random_state=42)  # by default, ROCKET uses 10,000 kernels\n",
    "\n",
    "start = time.time()\n",
    "rocket.fit(X)\n",
    "\n",
    "end = time.time()\n",
    "print(f'time={end - start:.5f} s')\n",
    "print(f'time={str(datetime.timedelta(seconds=end-start))}')\n",
    "\n",
    "# time=0.40729 s\n",
    "# time=0:00:00.407293"
   ]
  },
  {
   "cell_type": "code",
   "execution_count": 9,
   "metadata": {},
   "outputs": [
    {
     "name": "stdout",
     "output_type": "stream",
     "text": [
      "\"rocket.transform\" time=18829.78888 s\n",
      "time=5:13:49.788878\n"
     ]
    }
   ],
   "source": [
    "# 02h 10m 53s completed\n",
    "# virufy 48000 Hz, over 3h 11m\n",
    "# virufy  4000 Hz, 26m 27s\n",
    "# coswara 40 sets 2m 18s\n",
    "start = time.time()\n",
    "X_transform = rocket.transform(X)\n",
    "\n",
    "end = time.time()\n",
    "print(f'\"rocket.transform\" time={end - start:.5f} s')\n",
    "print(f'time={str(datetime.timedelta(seconds=end-start))}')\n",
    "\n",
    "#\"rocket.transform\" time=1830.83486 s\n",
    "# time=0:30:30.834859\n",
    "\n",
    "# \"rocket.transform\" time=1859.84968 s\n",
    "# time=0:30:59.849679\n",
    "\n",
    "# \"rocket.transform\" time=1922.48763 s\n",
    "# time=0:32:02.487631\n",
    "\n",
    "# \"rocket.transform\" time=1570.55321 s\n",
    "# time=0:26:10.553214\n",
    "\n",
    "# virufy 4000 Hz\n",
    "# \"rocket.transform\" time=1587.36839 s\n",
    "# time=0:26:27.368386"
   ]
  },
  {
   "cell_type": "code",
   "execution_count": 10,
   "metadata": {},
   "outputs": [
    {
     "name": "stdout",
     "output_type": "stream",
     "text": [
      "<class 'pandas.core.frame.DataFrame'>\n",
      "<class 'pandas.core.frame.DataFrame'>\n",
      "RangeIndex: 4800 entries, 0 to 4799\n",
      "Columns: 20000 entries, 0 to 19999\n",
      "dtypes: float64(20000)\n",
      "memory usage: 732.4 MB\n",
      "None\n"
     ]
    }
   ],
   "source": [
    "print(type(X_transform))\n",
    "print(X_transform.info())"
   ]
  },
  {
   "cell_type": "code",
   "execution_count": 11,
   "metadata": {},
   "outputs": [
    {
     "name": "stdout",
     "output_type": "stream",
     "text": [
      "time=202.94070 s\n",
      "time=0:03:22.940696\n"
     ]
    }
   ],
   "source": [
    "# save to file\n",
    "# 2m 43s completed\n",
    "start = time.time()\n",
    "X_transform.to_csv('coswara_rocket_X_transform.csv', index=False)\n",
    "end = time.time()\n",
    "print(f'time={end - start:.5f} s')\n",
    "print(f'time={str(datetime.timedelta(seconds=end-start))}')"
   ]
  },
  {
   "cell_type": "code",
   "execution_count": 12,
   "metadata": {},
   "outputs": [
    {
     "name": "stdout",
     "output_type": "stream",
     "text": [
      "<class 'pandas.core.frame.DataFrame'>\n",
      "RangeIndex: 4800 entries, 0 to 4799\n",
      "Columns: 20000 entries, 0 to 19999\n",
      "dtypes: float64(20000)\n",
      "memory usage: 732.4 MB\n",
      "None\n"
     ]
    }
   ],
   "source": [
    "X_transform_2 = pd.read_csv('coswara_rocket_X_transform.csv')\n",
    "print(X_transform_2.info())\n"
   ]
  }
 ],
 "metadata": {
  "interpreter": {
   "hash": "e348a351df2cd77ae4318ac0881b291ec099893fc22ef6ad417562a614c78ae7"
  },
  "kernelspec": {
   "display_name": "Python 3.7.11 ('sktime')",
   "language": "python",
   "name": "python3"
  },
  "language_info": {
   "codemirror_mode": {
    "name": "ipython",
    "version": 3
   },
   "file_extension": ".py",
   "mimetype": "text/x-python",
   "name": "python",
   "nbconvert_exporter": "python",
   "pygments_lexer": "ipython3",
   "version": "3.7.11"
  },
  "orig_nbformat": 4
 },
 "nbformat": 4,
 "nbformat_minor": 2
}
